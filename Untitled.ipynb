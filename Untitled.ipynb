{
 "cells": [
  {
   "cell_type": "code",
   "execution_count": 55,
   "metadata": {},
   "outputs": [],
   "source": [
    "import numpy as np\n",
    "from datetime import datetime as dt\n",
    "from itertools import chain, permutations"
   ]
  },
  {
   "cell_type": "code",
   "execution_count": null,
   "metadata": {},
   "outputs": [],
   "source": []
  },
  {
   "cell_type": "code",
   "execution_count": 90,
   "metadata": {},
   "outputs": [],
   "source": [
    "def argmin(z,key):\n",
    "    if not z: return None\n",
    "    min_val = min(z.values(),key=lambda x: x[key])\n",
    "    return [k for k in z if z[k] == min_val][0]\n",
    "\n",
    "class MemoriaCP(object):\n",
    "    def __init__(self,largo):\n",
    "        self.largo=largo\n",
    "        self.mem =[]\n",
    "    def tryUse(self,elem):\n",
    "        #sin prob de usar taboo\n",
    "        if elem in self.mem:\n",
    "            return False\n",
    "        else:\n",
    "            if len(self.mem)==self.largo:\n",
    "                self.mem=self.mem[1:]\n",
    "            self.mem.append(elem)\n",
    "            return True\n",
    "    def __str__(self):\n",
    "        return repr(self.mem)\n",
    "    def __repr__(self):\n",
    "        return \"<MemoriaCP:\"+repr(self.mem)+\">\"\n",
    "\n",
    "class MemoriaMP(object):\n",
    "    def __init__(self,largo):\n",
    "        self.largo=largo\n",
    "        self.mem ={}\n",
    "        \n",
    "    def cachedExcec(f,dato,*args):\n",
    "        if self.mem.has_key(str(dato)):\n",
    "            self.mem[str(dato)]['ts']=dt.now()\n",
    "            return self.mem[str(dato)][\"resultado\"]\n",
    "        else:\n",
    "            if len(self.mem.keys())==self.largo:\n",
    "                del self.mem[argmin(self.mem,\"ts\")]\n",
    "            self.mem[str(dato)]={\"resultado\":f(dato,*args),\"ts\":dt.now()}\n",
    "            return self.mem[str(dato)][\"resultado\"]\n",
    "    def getElite(self):\n",
    "        return eval(argmin(self.mem,\"resultado\"))\n",
    "        \n",
    "    def __str__(self):\n",
    "        return repr(self.mem)\n",
    "    def __repr__(self):\n",
    "        return \"<MemoriaCP:\"+repr(self.mem)+\">\"\n",
    "            \n",
    "class MemoriaLP(object):\n",
    "    def __init__(self,N):\n",
    "        self.N = N\n",
    "        self.mem = [[0 for _ in range(N)] for _ in range(N)] \n",
    "    \n",
    "    def register(self,dato):\n",
    "        for i in range(self.N):\n",
    "            self.mem[i][dato[i]]+=1\n",
    "        \n",
    "    def choose(self):\n",
    "        minFrec = float(\"inf\")\n",
    "        mfSol = None\n",
    "        for a in permutations(range(self.N),self.N):\n",
    "            s = sum([self.mem[i][a[i]] for i in range(self.N)])\n",
    "            if s ==0:\n",
    "                return a\n",
    "            elif s<minFrec:\n",
    "                minFrec = s\n",
    "                mfSol = a\n",
    "        return mfSol\n",
    "    \n",
    "    def __str__(self):\n",
    "        return repr(self.mem)\n",
    "    def __repr__(self):\n",
    "        return \"<MemoriaCP:\"+repr(self.mem)+\">\""
   ]
  },
  {
   "cell_type": "code",
   "execution_count": 77,
   "metadata": {},
   "outputs": [
    {
     "data": {
      "text/plain": [
       "6"
      ]
     },
     "execution_count": 77,
     "metadata": {},
     "output_type": "execute_result"
    }
   ],
   "source": [
    "sum([1,2,3])"
   ]
  },
  {
   "cell_type": "code",
   "execution_count": 80,
   "metadata": {},
   "outputs": [
    {
     "data": {
      "text/plain": [
       "True"
      ]
     },
     "execution_count": 80,
     "metadata": {},
     "output_type": "execute_result"
    }
   ],
   "source": [
    "float(\"inf\")>5"
   ]
  },
  {
   "cell_type": "code",
   "execution_count": 52,
   "metadata": {},
   "outputs": [
    {
     "data": {
      "text/plain": [
       "array([0, 0, 0, 1])"
      ]
     },
     "execution_count": 52,
     "metadata": {},
     "output_type": "execute_result"
    }
   ],
   "source": [
    "np.argmin({1:2,2:3,3:4,\"hola\":0}.items(),axis=1)"
   ]
  },
  {
   "cell_type": "code",
   "execution_count": 54,
   "metadata": {},
   "outputs": [
    {
     "name": "stdout",
     "output_type": "stream",
     "text": [
      "[2, 3, 4, 0]\n"
     ]
    },
    {
     "data": {
      "text/plain": [
       "'hola'"
      ]
     },
     "execution_count": 54,
     "metadata": {},
     "output_type": "execute_result"
    }
   ],
   "source": [
    "d = {1:2,2:3,3:4,\"hola\":0}\n",
    "def argmin(z):\n",
    "    if not z: return None\n",
    "    print z.values()\n",
    "    min_val = min(z.values(),key=lambda x[])\n",
    "    return [k for k in z if z[k] == min_val][0]\n",
    "\n",
    "argmin(d)"
   ]
  },
  {
   "cell_type": "code",
   "execution_count": 49,
   "metadata": {},
   "outputs": [
    {
     "data": {
      "text/plain": [
       "[(1, 2), (2, 3), (3, 4), ('hola', 0)]"
      ]
     },
     "execution_count": 49,
     "metadata": {},
     "output_type": "execute_result"
    }
   ],
   "source": [
    "_.items()"
   ]
  },
  {
   "cell_type": "code",
   "execution_count": 58,
   "metadata": {},
   "outputs": [
    {
     "data": {
      "text/plain": [
       "[[0, 0, 0], [0, 0, 0], [0, 0, 0]]"
      ]
     },
     "execution_count": 58,
     "metadata": {},
     "output_type": "execute_result"
    }
   ],
   "source": [
    "N=3\n",
    "a=[[0 for _ in range(N)] for _ in range(N)] \n",
    "a"
   ]
  },
  {
   "cell_type": "code",
   "execution_count": 59,
   "metadata": {},
   "outputs": [],
   "source": [
    "a[0][1]=1"
   ]
  },
  {
   "cell_type": "code",
   "execution_count": 82,
   "metadata": {},
   "outputs": [],
   "source": [
    "lp = MemoriaLP(3)"
   ]
  },
  {
   "cell_type": "code",
   "execution_count": 87,
   "metadata": {},
   "outputs": [],
   "source": [
    "lp.register([1,0,2])\n",
    "lp.register((0, 2, 1))"
   ]
  },
  {
   "cell_type": "code",
   "execution_count": 88,
   "metadata": {},
   "outputs": [
    {
     "data": {
      "text/plain": [
       "(2, 1, 0)"
      ]
     },
     "execution_count": 88,
     "metadata": {},
     "output_type": "execute_result"
    }
   ],
   "source": [
    "lp.choose()"
   ]
  },
  {
   "cell_type": "code",
   "execution_count": null,
   "metadata": {},
   "outputs": [],
   "source": [
    "[1,0,0]"
   ]
  },
  {
   "cell_type": "code",
   "execution_count": 6,
   "metadata": {},
   "outputs": [],
   "source": [
    "from multiprocessing.pool import ThreadPool"
   ]
  },
  {
   "cell_type": "code",
   "execution_count": 7,
   "metadata": {},
   "outputs": [],
   "source": [
    "p = ThreadPool(5)"
   ]
  },
  {
   "cell_type": "code",
   "execution_count": 11,
   "metadata": {},
   "outputs": [],
   "source": [
    "a ={}\n",
    "def f(x):\n",
    "    a[x]=x\n",
    "    return x "
   ]
  },
  {
   "cell_type": "code",
   "execution_count": 9,
   "metadata": {},
   "outputs": [
    {
     "data": {
      "text/plain": [
       "1"
      ]
     },
     "execution_count": 9,
     "metadata": {},
     "output_type": "execute_result"
    }
   ],
   "source": [
    "f(1)"
   ]
  },
  {
   "cell_type": "code",
   "execution_count": 12,
   "metadata": {},
   "outputs": [
    {
     "data": {
      "text/plain": [
       "[1, 2, 3]"
      ]
     },
     "execution_count": 12,
     "metadata": {},
     "output_type": "execute_result"
    }
   ],
   "source": [
    "p.map(f, [1, 2, 3])"
   ]
  },
  {
   "cell_type": "code",
   "execution_count": 13,
   "metadata": {},
   "outputs": [
    {
     "data": {
      "text/plain": [
       "{1: 1, 2: 2, 3: 3}"
      ]
     },
     "execution_count": 13,
     "metadata": {},
     "output_type": "execute_result"
    }
   ],
   "source": [
    "a"
   ]
  },
  {
   "cell_type": "code",
   "execution_count": 14,
   "metadata": {},
   "outputs": [],
   "source": [
    "import heapq"
   ]
  },
  {
   "cell_type": "code",
   "execution_count": 17,
   "metadata": {},
   "outputs": [],
   "source": [
    "g = []\n",
    "heapq.heappush(g,(9,\"23423\"))\n",
    "heapq.heappush(g,(3,\"23423\"))\n",
    "heapq.heappush(g,(0,\"23423\"))\n",
    "heapq.heappush(g,(6,\"23423\"))\n",
    "heapq.heappush(g,(1,\"23423\"))"
   ]
  },
  {
   "cell_type": "code",
   "execution_count": 18,
   "metadata": {},
   "outputs": [
    {
     "data": {
      "text/plain": [
       "[(0, '23423'), (1, '23423'), (3, '23423'), (9, '23423'), (6, '23423')]"
      ]
     },
     "execution_count": 18,
     "metadata": {},
     "output_type": "execute_result"
    }
   ],
   "source": [
    "g"
   ]
  },
  {
   "cell_type": "code",
   "execution_count": 19,
   "metadata": {},
   "outputs": [
    {
     "ename": "NameError",
     "evalue": "name 'permutations' is not defined",
     "output_type": "error",
     "traceback": [
      "\u001b[0;31m---------------------------------------------------------------------------\u001b[0m",
      "\u001b[0;31mNameError\u001b[0m                                 Traceback (most recent call last)",
      "\u001b[0;32m<ipython-input-19-d3f6d7cc6aeb>\u001b[0m in \u001b[0;36m<module>\u001b[0;34m()\u001b[0m\n\u001b[0;32m----> 1\u001b[0;31m \u001b[0mpermutations\u001b[0m\u001b[0;34m(\u001b[0m\u001b[0mrange\u001b[0m\u001b[0;34m(\u001b[0m\u001b[0mself\u001b[0m\u001b[0;34m.\u001b[0m\u001b[0mN\u001b[0m\u001b[0;34m)\u001b[0m\u001b[0;34m,\u001b[0m\u001b[0mself\u001b[0m\u001b[0;34m.\u001b[0m\u001b[0mN\u001b[0m\u001b[0;34m)\u001b[0m\u001b[0;34m\u001b[0m\u001b[0m\n\u001b[0m",
      "\u001b[0;31mNameError\u001b[0m: name 'permutations' is not defined"
     ]
    }
   ],
   "source": [
    "permutations(range(self.N),self.N)"
   ]
  },
  {
   "cell_type": "code",
   "execution_count": null,
   "metadata": {},
   "outputs": [],
   "source": []
  }
 ],
 "metadata": {
  "kernelspec": {
   "display_name": "Python 2",
   "language": "python",
   "name": "python2"
  },
  "language_info": {
   "codemirror_mode": {
    "name": "ipython",
    "version": 2
   },
   "file_extension": ".py",
   "mimetype": "text/x-python",
   "name": "python",
   "nbconvert_exporter": "python",
   "pygments_lexer": "ipython2",
   "version": "2.7.12"
  }
 },
 "nbformat": 4,
 "nbformat_minor": 2
}
